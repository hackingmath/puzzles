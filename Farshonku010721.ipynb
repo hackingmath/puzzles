{
 "cells": [
  {
   "cell_type": "code",
   "execution_count": 12,
   "metadata": {
    "scrolled": true
   },
   "outputs": [
    {
     "name": "stdout",
     "output_type": "stream",
     "text": [
      " 4 9 5 3 2 7\n",
      " 6 3 7 5 8 1\n",
      " 1 2 8 9 4 6\n",
      " 8 7 3 4 6 2\n",
      " 9 4 1 8 3 5\n",
      " 2 5 6 1 7 9\n",
      "\n",
      " 12.476166 seconds (193.35 M allocations: 11.104 GiB, 8.24% gc time)\n"
     ]
    },
    {
     "name": "stderr",
     "output_type": "stream",
     "text": [
      "WARNING: redefining constant board\n",
      "WARNING: redefining constant TOP\n",
      "WARNING: redefining constant BOTTOM\n",
      "WARNING: redefining constant LEFT\n",
      "WARNING: redefining constant RIGHT\n",
      "WARNING: redefining constant QUAD_CORNERS\n",
      "WARNING: redefining constant lookup\n",
      "WARNING: redefining constant primes\n"
     ]
    }
   ],
   "source": [
    "# Solving Farshonku Puzzle #1!\n",
    "# https://twitter.com/1to9puzzle/status/1347231703429861376\n",
    "# January 7, 2021\n",
    "\n",
    "const board = Array(Int8[0 0 0 0 0 0;\n",
    "                         0 0 0 0 0 0;\n",
    "                         0 0 0 0 0 0;\n",
    "                         0 0 0 0 0 0;\n",
    "                         0 0 0 0 0 0;\n",
    "                         0 0 0 0 0 0])\n",
    "\n",
    "const TOP = [6,12,13,12,10,8]\n",
    "const BOTTOM = [11,9,9,6,13,14]\n",
    "const LEFT = [9,9,3,15,12,8]\n",
    "const RIGHT = [16,6,8,8,13,16]\n",
    "\n",
    "const QUAD_CORNERS = [(1,1),(4,1),\n",
    "                      (1,4),(4,4)]\n",
    "\n",
    "const lookup = zeros(CartesianIndex{2}, count(i->(i==0),  board))\n",
    "\n",
    "function quadrant(board, n)\n",
    "    (i, j) = QUAD_CORNERS[n]\n",
    "    view(board, i:i+2, j:j+2)\n",
    "end\n",
    "            \n",
    "function repeat(mylist)\n",
    "    for i in mylist\n",
    "        if i != 0\n",
    "            if count(j->j==i,mylist) > 1\n",
    "                return true\n",
    "                end\n",
    "            end\n",
    "        end\n",
    "    return false\n",
    "end\n",
    "\n",
    "function print_board(solution_board)\n",
    "    print()\n",
    "    for i in 1:6\n",
    "        for j in 1:6\n",
    "            print(' ')\n",
    "            print(solution_board[i, j])\n",
    "        end\n",
    "        println()\n",
    "    end\n",
    "    println() #blank line\n",
    "end\n",
    "\n",
    "const primes = [2,3,5,7]\n",
    "\n",
    "function sums(arr)\n",
    "    output = arr[1]\n",
    "    if arr[1] in primes\n",
    "        for i in 2:6\n",
    "            if arr[i] ∉ primes\n",
    "                return output += arr[i]\n",
    "            end\n",
    "        end\n",
    "    else\n",
    "        for i in 2:6\n",
    "            if arr[i] in primes\n",
    "                return output += arr[i]\n",
    "            end\n",
    "        end\n",
    "    end\n",
    "        \n",
    "end\n",
    "\n",
    "function check_no_conflicts(solution_board)\n",
    "    for i in 1:6\n",
    "        thisrow = view(solution_board, i, :)\n",
    "        \n",
    "        if repeat(thisrow)\n",
    "            return false\n",
    "        end\n",
    "        \n",
    "#         if sums(thisrow) > LEFT[i]\n",
    "#             return false\n",
    "#         end\n",
    "        \n",
    "#         if sums(reverse(thisrow)) > RIGHT[i]\n",
    "#             return false\n",
    "#         end\n",
    "        \n",
    "        if count(k->k==0,thisrow)==0\n",
    "            if sums(thisrow) != LEFT[i]\n",
    "                return false\n",
    "            end\n",
    "            if sums(reverse(thisrow)) != RIGHT[i]\n",
    "                return false\n",
    "            end\n",
    "            if sum(thisrow) != 30\n",
    "                return false\n",
    "            end\n",
    "        end\n",
    "        \n",
    "        thiscol = view(solution_board, :, i)\n",
    "        if repeat(thiscol)\n",
    "            return false\n",
    "        end\n",
    "#         if sums(thiscol) > TOP[i]\n",
    "#             return false\n",
    "#         end\n",
    "        \n",
    "#         if sums(reverse(thiscol)) > BOTTOM[i]\n",
    "#             return false\n",
    "#         end\n",
    "        \n",
    "        if count(k->k==0,thiscol)==0\n",
    "            if sums(thiscol) != TOP[i]\n",
    "                return false\n",
    "            end\n",
    "            if sums(reverse(thiscol)) != BOTTOM[i]\n",
    "                return false\n",
    "            end\n",
    "        end\n",
    "        \n",
    "        if count(j->j==0,thiscol) == 0\n",
    "            if sum(thiscol) != 30\n",
    "                return false\n",
    "            end\n",
    "\n",
    "        end\n",
    "    end\n",
    "    \n",
    "    for i in 1:4\n",
    "        if repeat(quadrant(solution_board, i))\n",
    "            return false\n",
    "        end\n",
    "    end\n",
    "    return true\n",
    "end\n",
    "\n",
    "function solve(values, safe_up_to, size)\n",
    "    solution_list = zeros(size)\n",
    "    ind = 1\n",
    "    for r in 1:6\n",
    "        for c in 1:6\n",
    "            if  board[r, c] == 0\n",
    "                lookup[ind] = CartesianIndex(r, c)\n",
    "                ind += 1\n",
    "            end\n",
    "        end\n",
    "    end\n",
    "    function extend_solution(position)\n",
    "        for value in values\n",
    "             board[lookup[position]] = value\n",
    "            #print_board(board)\n",
    "            if safe_up_to(board)\n",
    "                if position >= size\n",
    "                    return true\n",
    "                end\n",
    "                new_solution = extend_solution(position+1)\n",
    "                if new_solution\n",
    "                    return true\n",
    "                end\n",
    "            else\n",
    "                 board[lookup[position]] = 0\n",
    "                if value == values[length(values)] && position > 1\n",
    "                     board[lookup[position-1]] = 0\n",
    "                end\n",
    "                if position < size\n",
    "                     board[lookup[position+1]] = 0\n",
    "                end\n",
    "            end\n",
    "        end\n",
    "        false\n",
    "    end\n",
    "    extend_solution(1)\n",
    "end\n",
    "\n",
    "function main()\n",
    "    blanks = count(i->i==0,  board)\n",
    "    if solve(9:-1:1, check_no_conflicts, blanks)\n",
    "        print_board( board)\n",
    "    else\n",
    "        print(\"solve failed to find solution\")\n",
    "    end\n",
    "end\n",
    "\n",
    "\n",
    "@time main()\n",
    "\n",
    "#=\n",
    "\n",
    "=#"
   ]
  },
  {
   "cell_type": "code",
   "execution_count": 11,
   "metadata": {},
   "outputs": [
    {
     "name": "stdout",
     "output_type": "stream",
     "text": [
      "3\n"
     ]
    }
   ],
   "source": [
    "function sums(arr)\n",
    "    output = arr[1]\n",
    "    if arr[1] in primes\n",
    "        for i in 2:6\n",
    "            if arr[i] ∉ primes\n",
    "                return output += arr[i]\n",
    "            end\n",
    "        end\n",
    "    else\n",
    "        for i in 2:6\n",
    "            if arr[i] in primes\n",
    "                return output += arr[i]\n",
    "            end\n",
    "        end\n",
    "    end\n",
    "        \n",
    "end\n",
    "\n",
    "println(sums([2,7,5,1,9,6]))"
   ]
  },
  {
   "cell_type": "code",
   "execution_count": 3,
   "metadata": {},
   "outputs": [
    {
     "name": "stderr",
     "output_type": "stream",
     "text": [
      "WARNING: redefining constant primes\n"
     ]
    },
    {
     "data": {
      "text/plain": [
       "true"
      ]
     },
     "execution_count": 3,
     "metadata": {},
     "output_type": "execute_result"
    }
   ],
   "source": [
    "const primes = [2,3,5,7]\n",
    "2 in primes"
   ]
  },
  {
   "cell_type": "code",
   "execution_count": 8,
   "metadata": {},
   "outputs": [
    {
     "data": {
      "text/plain": [
       "false"
      ]
     },
     "execution_count": 8,
     "metadata": {},
     "output_type": "execute_result"
    }
   ],
   "source": [
    "2 ∉ primes"
   ]
  },
  {
   "cell_type": "code",
   "execution_count": null,
   "metadata": {},
   "outputs": [],
   "source": []
  }
 ],
 "metadata": {
  "kernelspec": {
   "display_name": "Julia 1.4.2",
   "language": "julia",
   "name": "julia-1.4"
  },
  "language_info": {
   "file_extension": ".jl",
   "mimetype": "application/julia",
   "name": "julia",
   "version": "1.4.2"
  }
 },
 "nbformat": 4,
 "nbformat_minor": 4
}
